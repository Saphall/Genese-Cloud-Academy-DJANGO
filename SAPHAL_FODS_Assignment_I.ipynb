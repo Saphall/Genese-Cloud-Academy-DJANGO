{
 "cells": [
  {
   "cell_type": "markdown",
   "metadata": {
    "id": "uiK0fGWOnXcQ"
   },
   "source": [
    "Book :- \n",
    "Author :- Mark Lutz \n",
    "1. Learning Python 5th Edition O'Reilly\n",
    "2.Python Cookbook  David Beazley O'Reilly \n",
    "\n",
    "Link:- \n",
    "1. http://www.cs.uni.edu/~fienup/cs051f10/lectures/\n",
    "2. https://github.com/MrAlex6204/Books/blob/master/Learning%20Python%2C%205th%20Edition.pdf\n",
    "3. https://github.com/tomarraj008/data_books/blob/master/Python%20Cookbook%2C%203rd%20Edition.pdf\n",
    "\n"
   ]
  },
  {
   "cell_type": "markdown",
   "metadata": {
    "id": "g5RW89-P01bg"
   },
   "source": [
    "First Week Assignment \n",
    "\n",
    "Test Your Knowledge: Quiz \n",
    "\n",
    "1. What are the six main reasons that people choose to use Python?\n",
    "2. Name four notable companies or organizations using Python today.\n",
    "3. Why might you not want to use Python in an application?\n",
    "4. What can you do with Python?\n",
    "5. What’s the significance of the Python import this statement?\n",
    "6. Why does “spam” show up in so many Python examples in books and on the Web?\n",
    "7. What is your favorite color?\n",
    "\n",
    "\n",
    "Test Your Knowledge: Quiz\n",
    "1. What is the Python interpreter?\n",
    "2. What is source code?\n",
    "3. What is byte code?\n",
    "4. What is the PVM?\n",
    "5. Name two or more variations on Python’s standard execution model.\n",
    "6. How are CPython, Jython, and IronPython different?\n",
    "7. What are Stackless and PyPy?\n",
    "\n",
    "Test Your Knowledge: Quiz\n",
    "1. How can you start an interactive interpreter session?\n",
    "2. Where do you type a system command line to launch a script file?\n",
    "3. Name four or more ways to run the code saved in a script file.\n",
    "4. Name two pitfalls related to clicking file icons on Windows.\n",
    "5. Why might you need to reload a module?\n",
    "6. How do you run a script from within IDLE?\n",
    "7. Name two pitfalls related to using IDLE.\n",
    "8. What is a namespace, and how does it relate to module files?\n",
    "\n",
    "\n",
    "Test Your Knowledge: Quiz\n",
    "\n",
    "1. Name four of Python’s core data types.\n",
    "2. Why are they called “core” data types?\n",
    "3. What does “immutable” mean, and which three of Python’s core types are considered immutable?\n",
    "4. What does “sequence” mean, and which three types fall into that category?\n",
    "5. What does “mapping” mean, and which core type is a mapping?\n",
    "6. What is “polymorphism,” and why should you care?\n",
    "\n",
    "\n",
    "\n"
   ]
  },
  {
   "cell_type": "markdown",
   "metadata": {
    "id": "6kafgQs5S8WY"
   },
   "source": [
    "**Projects:-**<br>\n",
    "1. Open a Python shell, enter the following expressions, and observe the results:<br>\n",
    "a. 8<br>\n",
    "b. 8 * 2<br>\n",
    "c. 8 ** 2<br>\n",
    "d. 8/12<br>\n",
    "e. 8 // 12<br>\n",
    "f. 8/0"
   ]
  },
  {
   "cell_type": "code",
   "execution_count": 3,
   "metadata": {
    "colab": {
     "base_uri": "https://localhost:8080/"
    },
    "id": "M0vvPpdkTWOZ",
    "outputId": "731344ba-ce29-4a45-d618-325a7e662bdc"
   },
   "outputs": [
    {
     "data": {
      "text/plain": [
       "8"
      ]
     },
     "execution_count": 3,
     "metadata": {
      "tags": []
     },
     "output_type": "execute_result"
    }
   ],
   "source": [
    "8"
   ]
  },
  {
   "cell_type": "code",
   "execution_count": 4,
   "metadata": {
    "colab": {
     "base_uri": "https://localhost:8080/"
    },
    "id": "i8E-qB3qVcWj",
    "outputId": "dc00d074-0e4a-4dca-c972-0d0150e40197"
   },
   "outputs": [
    {
     "data": {
      "text/plain": [
       "16"
      ]
     },
     "execution_count": 4,
     "metadata": {
      "tags": []
     },
     "output_type": "execute_result"
    }
   ],
   "source": [
    "8*2"
   ]
  },
  {
   "cell_type": "code",
   "execution_count": 7,
   "metadata": {
    "colab": {
     "base_uri": "https://localhost:8080/"
    },
    "id": "StlFSqW7Vw1K",
    "outputId": "e5075d0e-8934-46be-bee5-d91d4b3a6ff4"
   },
   "outputs": [
    {
     "data": {
      "text/plain": [
       "64"
      ]
     },
     "execution_count": 7,
     "metadata": {
      "tags": []
     },
     "output_type": "execute_result"
    }
   ],
   "source": [
    "8**2"
   ]
  },
  {
   "cell_type": "code",
   "execution_count": 10,
   "metadata": {
    "colab": {
     "base_uri": "https://localhost:8080/"
    },
    "id": "B9PRX3YXVuzz",
    "outputId": "75e45885-99dd-4404-a033-629dfac6fa29"
   },
   "outputs": [
    {
     "data": {
      "text/plain": [
       "0.6666666666666666"
      ]
     },
     "execution_count": 10,
     "metadata": {
      "tags": []
     },
     "output_type": "execute_result"
    }
   ],
   "source": [
    "8/12"
   ]
  },
  {
   "cell_type": "code",
   "execution_count": 9,
   "metadata": {
    "colab": {
     "base_uri": "https://localhost:8080/"
    },
    "id": "GNZh7D9oV1dQ",
    "outputId": "02dc7856-a408-48fa-cfa9-01010c735586"
   },
   "outputs": [
    {
     "data": {
      "text/plain": [
       "0"
      ]
     },
     "execution_count": 9,
     "metadata": {
      "tags": []
     },
     "output_type": "execute_result"
    }
   ],
   "source": [
    "8//12"
   ]
  },
  {
   "cell_type": "code",
   "execution_count": 8,
   "metadata": {
    "colab": {
     "base_uri": "https://localhost:8080/",
     "height": 164
    },
    "id": "pbwRCNYzV2a3",
    "outputId": "4cea6736-0591-4180-8e04-0708a279c6bc"
   },
   "outputs": [
    {
     "ename": "ZeroDivisionError",
     "evalue": "ignored",
     "output_type": "error",
     "traceback": [
      "\u001b[0;31m---------------------------------------------------------------------------\u001b[0m",
      "\u001b[0;31mZeroDivisionError\u001b[0m                         Traceback (most recent call last)",
      "\u001b[0;32m<ipython-input-8-b75faf41dc75>\u001b[0m in \u001b[0;36m<module>\u001b[0;34m()\u001b[0m\n\u001b[0;32m----> 1\u001b[0;31m \u001b[0;36m8\u001b[0m\u001b[0;34m/\u001b[0m\u001b[0;36m0\u001b[0m\u001b[0;34m\u001b[0m\u001b[0;34m\u001b[0m\u001b[0m\n\u001b[0m",
      "\u001b[0;31mZeroDivisionError\u001b[0m: division by zero"
     ]
    }
   ],
   "source": [
    "8/0"
   ]
  },
  {
   "cell_type": "markdown",
   "metadata": {
    "id": "ySRylLzXTg4L"
   },
   "source": [
    "2. Write a Python program that prints (displays) your name, address, and telephone number"
   ]
  },
  {
   "cell_type": "code",
   "execution_count": 13,
   "metadata": {
    "colab": {
     "base_uri": "https://localhost:8080/"
    },
    "id": "IC-e8BmAUMex",
    "outputId": "c6254e17-d5f8-4136-b92e-278d1cc0a24f"
   },
   "outputs": [
    {
     "name": "stdout",
     "output_type": "stream",
     "text": [
      "Name : Saphal\n",
      "Address: Bhaktapur\n",
      "Telephone: 9843453450\n"
     ]
    }
   ],
   "source": [
    "print('Name : Saphal')\n",
    "print('Address: Bhaktapur')\n",
    "print('Telephone:',9843453450)"
   ]
  },
  {
   "cell_type": "markdown",
   "metadata": {
    "id": "H-t99QCLUNap"
   },
   "source": [
    "3. Evaluate the following code at a shell prompt: print(\"Your name is\", name). Then assign name an appropriate value, and evaluate the statement again."
   ]
  },
  {
   "cell_type": "code",
   "execution_count": 14,
   "metadata": {
    "colab": {
     "base_uri": "https://localhost:8080/"
    },
    "id": "dXcXgJUSUhwR",
    "outputId": "3efa49cc-aadf-40c2-9c73-f8ca14439f7d"
   },
   "outputs": [
    {
     "name": "stdout",
     "output_type": "stream",
     "text": [
      "Your name is Ram\n"
     ]
    }
   ],
   "source": [
    "name = 'Ram'\n",
    "print('Your name is',name)"
   ]
  },
  {
   "cell_type": "markdown",
   "metadata": {
    "id": "qjgWML-AUi-v"
   },
   "source": [
    "4. Write and test a program that accepts the user's name(as text) and age(as a number) as input. The program should output a sentense containing the user's name and age."
   ]
  },
  {
   "cell_type": "code",
   "execution_count": 16,
   "metadata": {
    "colab": {
     "base_uri": "https://localhost:8080/"
    },
    "id": "a3yt3ND1WkF0",
    "outputId": "dc1267cc-d405-4147-b6f7-fbede0c3e104"
   },
   "outputs": [
    {
     "name": "stdout",
     "output_type": "stream",
     "text": [
      "Enter your name: Saphal\n",
      "Enter your age: 23\n",
      "Your name is Saphal and your age is 23.\n"
     ]
    }
   ],
   "source": [
    "name = input ('Enter your name: ')\n",
    "age = int(input('Enter your age: '))\n",
    "print(f'Your name is {name} and your age is {age}.')"
   ]
  },
  {
   "cell_type": "markdown",
   "metadata": {
    "id": "Fw-qO1W9WlGW"
   },
   "source": [
    "5. Write and test a program that computes the area of a circle. This program should request a number representing  a radius as input from the user. It should use the formula 3.14*radius**2 to compute the area and then output this result suitably labeled."
   ]
  },
  {
   "cell_type": "code",
   "execution_count": 17,
   "metadata": {
    "colab": {
     "base_uri": "https://localhost:8080/"
    },
    "id": "PwqzW8U-W8fB",
    "outputId": "5c11515e-264b-43db-c9f9-27899b800a80"
   },
   "outputs": [
    {
     "name": "stdout",
     "output_type": "stream",
     "text": [
      "Enter a radius of circle: 22\n",
      "Area of the circle is : 1519.76\n"
     ]
    }
   ],
   "source": [
    "radius = int(input('Enter a radius of circle: '))\n",
    "print('Area of the circle is :',3.14*radius**2)"
   ]
  },
  {
   "cell_type": "markdown",
   "metadata": {
    "id": "roHMT8eHXDFg"
   },
   "source": [
    "6. Enter an input statement using the input function at the shll prompt. When the prompt asks you for input, enter a number. Then, attempt to add 1 to that number, observe the results and explain what happened."
   ]
  },
  {
   "cell_type": "code",
   "execution_count": 18,
   "metadata": {
    "colab": {
     "base_uri": "https://localhost:8080/"
    },
    "id": "Y9danKsrXXLJ",
    "outputId": "bde31e41-f8ad-48b7-bc57-0ba6614424b2"
   },
   "outputs": [
    {
     "name": "stdout",
     "output_type": "stream",
     "text": [
      "Enter a number: 33\n",
      "Next number after 33 is 34\n"
     ]
    }
   ],
   "source": [
    "number = int(input('Enter a number: '))\n",
    "next = number + 1\n",
    "print(f'Next number after {number} is {next}')"
   ]
  },
  {
   "cell_type": "markdown",
   "metadata": {
    "id": "-ud9b4rIXdyO"
   },
   "source": [
    "7. Enter the expression help() at the shell prompt. Follow the instructions to browse the topics and modules."
   ]
  },
  {
   "cell_type": "code",
   "execution_count": 22,
   "metadata": {
    "colab": {
     "base_uri": "https://localhost:8080/"
    },
    "id": "Q6DP_R5hXmmS",
    "outputId": "021104a8-6119-462d-88ee-ee62b894308b"
   },
   "outputs": [
    {
     "name": "stdout",
     "output_type": "stream",
     "text": [
      "\n",
      "Welcome to Python 3.7's help utility!\n",
      "\n",
      "If this is your first time using Python, you should definitely check out\n",
      "the tutorial on the Internet at https://docs.python.org/3.7/tutorial/.\n",
      "\n",
      "Enter the name of any module, keyword, or topic to get help on writing\n",
      "Python programs and using Python modules.  To quit this help utility and\n",
      "return to the interpreter, just type \"quit\".\n",
      "\n",
      "To get a list of available modules, keywords, symbols, or topics, type\n",
      "\"modules\", \"keywords\", \"symbols\", or \"topics\".  Each module also comes\n",
      "with a one-line summary of what it does; to list the modules whose name\n",
      "or summary contain a given string such as \"spam\", type \"modules spam\".\n",
      "\n",
      "help> print\n",
      "Help on built-in function print in module builtins:\n",
      "\n",
      "print(...)\n",
      "    print(value, ..., sep=' ', end='\\n', file=sys.stdout, flush=False)\n",
      "    \n",
      "    Prints the values to a stream, or to sys.stdout by default.\n",
      "    Optional keyword arguments:\n",
      "    file:  a file-like object (stream); defaults to the current sys.stdout.\n",
      "    sep:   string inserted between values, default a space.\n",
      "    end:   string appended after the last value, default a newline.\n",
      "    flush: whether to forcibly flush the stream.\n",
      "\n",
      "help> input\n",
      "Help on method raw_input in module ipykernel.kernelbase:\n",
      "\n",
      "input = raw_input(prompt='') method of google.colab._kernel.Kernel instance\n",
      "    Forward raw_input to frontends\n",
      "    \n",
      "    Raises\n",
      "    ------\n",
      "    StdinNotImplentedError if active frontend doesn't support stdin.\n",
      "\n",
      "\n",
      "You are now leaving help and returning to the Python interpreter.\n",
      "If you want to ask for help on a particular object directly from the\n",
      "interpreter, you can type \"help(object)\".  Executing \"help('string')\"\n",
      "has the same effect as typing a particular string at the help> prompt.\n"
     ]
    }
   ],
   "source": [
    "help()"
   ]
  },
  {
   "cell_type": "markdown",
   "metadata": {
    "id": "Mh0jLr5HYCzo"
   },
   "source": [
    "8. The tax calculator program of the case study outputs a floating-point number that might show more than two digits of precision. Use the round function to modify the program to display at most two digits of precision in the output number."
   ]
  },
  {
   "cell_type": "code",
   "execution_count": 23,
   "metadata": {
    "colab": {
     "base_uri": "https://localhost:8080/"
    },
    "id": "6JN4PaojYEK4",
    "outputId": "bad42e34-015b-4759-ee32-033e25547038"
   },
   "outputs": [
    {
     "name": "stdout",
     "output_type": "stream",
     "text": [
      "3.12\n"
     ]
    }
   ],
   "source": [
    "tax= 3.1234567888\n",
    "print(round(tax, 2))"
   ]
  },
  {
   "cell_type": "markdown",
   "metadata": {
    "id": "SeHW1j9kYF8Q"
   },
   "source": [
    "9. You can calculate the surface area of a cube if you know the length of an edge. Write a program that takes the length of an edge(an integer) as input and prints the cube's surface area as output."
   ]
  },
  {
   "cell_type": "code",
   "execution_count": 25,
   "metadata": {
    "colab": {
     "base_uri": "https://localhost:8080/"
    },
    "id": "otcAXgxxYkx6",
    "outputId": "53000685-a842-4c30-e739-187424cfbd5e"
   },
   "outputs": [
    {
     "name": "stdout",
     "output_type": "stream",
     "text": [
      "Enter length of cube: 3\n",
      "The surface area of cube is  54\n"
     ]
    }
   ],
   "source": [
    "length= int(input(\"Enter length of cube: \"))\n",
    "print(\"The surface area of cube is \", 6*(length**2) )"
   ]
  },
  {
   "cell_type": "markdown",
   "metadata": {
    "id": "O3379lCKYlcr"
   },
   "source": [
    "10.Five Star Retro Video rents VHS tapes and DVDs to the same connoisseurs who like to buy LP record albums. The store rents new videos for $3.00 a night, and oldies for $2.00 a night.\n",
    "\n",
    "Write a program that the clerks at Five Star Retro Video can use to calculate the total charge for a customer’s video rentals.\n",
    "\n",
    "The program should prompt the user for the number of each type of video and output the total cost."
   ]
  },
  {
   "cell_type": "code",
   "execution_count": 26,
   "metadata": {
    "colab": {
     "base_uri": "https://localhost:8080/"
    },
    "id": "kKoIAmUpY4dY",
    "outputId": "384ed434-c495-47fc-9019-915897cc2141"
   },
   "outputs": [
    {
     "name": "stdout",
     "output_type": "stream",
     "text": [
      "Enter the number of new videos: 33\n",
      "Enter the number of old videos: 4\n",
      "The total charge is  107\n"
     ]
    }
   ],
   "source": [
    "new =int (input(\"Enter the number of new videos: \"))\n",
    "old=int (input(\"Enter the number of old videos: \"))\n",
    "newCharge= 3*new\n",
    "oldCharge= 2*old\n",
    "print(\"The total charge is \", newCharge+oldCharge)"
   ]
  },
  {
   "cell_type": "markdown",
   "metadata": {
    "id": "oBQWzZuoY9dH"
   },
   "source": [
    "11. Write a program that takes the radius of a sphere(a floating point number) as input and then outputs the sphere's diameter, circumference, surface area and volume."
   ]
  },
  {
   "cell_type": "code",
   "execution_count": 27,
   "metadata": {
    "colab": {
     "base_uri": "https://localhost:8080/"
    },
    "id": "MNAlLLYrbatP",
    "outputId": "86f4a8fb-f488-4004-8c05-f148a2672bc0"
   },
   "outputs": [
    {
     "name": "stdout",
     "output_type": "stream",
     "text": [
      "Enter the radius: 22\n",
      "The diameter of sphere is  44.0\n",
      "The circumfference of sphere is 138.16\n",
      "The surface area of sphere is  6079.04\n",
      "The volume of spheres is 44579.62666666666\n"
     ]
    }
   ],
   "source": [
    "\n",
    "radius = float(input(\"Enter the radius: \"))\n",
    "print(\"The diameter of sphere is \", 2*radius)\n",
    "print (\"The circumfference of sphere is\", 2*3.14*radius)\n",
    "print (\"The surface area of sphere is \", 4*3.14*(radius**2))\n",
    "print (\"The volume of spheres is\", 4/3*3.14*(radius**3))"
   ]
  },
  {
   "cell_type": "markdown",
   "metadata": {
    "id": "zOx3W9G8bb_2"
   },
   "source": [
    "12. Instructions An object's momentum is its mass multiplied by its velocity. Write a program that accepts an object's mass (in kilograms) and velocity (in meters per second) as inputs, and then outputs its momentum."
   ]
  },
  {
   "cell_type": "code",
   "execution_count": 28,
   "metadata": {
    "colab": {
     "base_uri": "https://localhost:8080/"
    },
    "id": "hlYAuUajdI0X",
    "outputId": "597598d0-4bef-4cfc-b42b-9cd8750b4bb5"
   },
   "outputs": [
    {
     "name": "stdout",
     "output_type": "stream",
     "text": [
      "Enter the mass in kg: 22\n",
      "Enther the velocity in meter per second: 3\n",
      "The momentum is  66\n"
     ]
    }
   ],
   "source": [
    "mass= int (input(\"Enter the mass in kg: \"))\n",
    "velocity= int (input(\"Enther the velocity in meter per second: \"))\n",
    "print(\"The momentum is \", mass*velocity)\n"
   ]
  },
  {
   "cell_type": "markdown",
   "metadata": {
    "id": "jU4yPCcrdf0D"
   },
   "source": [
    "13. The kinetic energy of a moving object is given by the formula KE = ½mv2 where m is the object’s mass and v is its velocity.\n",
    "\n",
    "Modify the program you created in Project 5 so that it prints the object’s kinetic energy as well as its momentum."
   ]
  },
  {
   "cell_type": "code",
   "execution_count": 29,
   "metadata": {
    "colab": {
     "base_uri": "https://localhost:8080/"
    },
    "id": "ocVu-KGkd9lN",
    "outputId": "4f113e1a-73f7-4779-cc3c-c2b07d49d45e"
   },
   "outputs": [
    {
     "name": "stdout",
     "output_type": "stream",
     "text": [
      "Enter the mass in kg: 33\n",
      "Enther the velocity in meter per second: 2\n",
      "The KE of object is  66.0\n",
      "The momentum is  66\n"
     ]
    }
   ],
   "source": [
    "mass= int (input(\"Enter the mass in kg: \"))\n",
    "velocity= int (input(\"Enther the velocity in meter per second: \"))\n",
    "print(\"The KE of object is \", 1/2*mass*velocity**2)\n",
    "print(\"The momentum is \", mass*velocity)\n"
   ]
  },
  {
   "cell_type": "markdown",
   "metadata": {
    "id": "KGUdbd0Od-TE"
   },
   "source": [
    "14. An employee’s total weekly pay equals the hourly wage multiplied by the total number of regular hours plus any overtime pay. Overtime pay equals the total overtime hours multiplied by 1.5 times the hourly wage. Write a program that takes as inputs the hourly wage, total regular hours, and total overtime hours and displays an employee’s total weekly pay."
   ]
  },
  {
   "cell_type": "code",
   "execution_count": 31,
   "metadata": {
    "colab": {
     "base_uri": "https://localhost:8080/"
    },
    "id": "d4lYL0jFekM1",
    "outputId": "9d852ea1-4ba1-4c7e-bec9-d25d6e40217b"
   },
   "outputs": [
    {
     "name": "stdout",
     "output_type": "stream",
     "text": [
      "Enter hourly age: 22\n",
      "Enter regular hours: 3\n",
      "Enter overtime hours: 3\n",
      "The total weekly pay is  79.5\n"
     ]
    }
   ],
   "source": [
    "hour= int (input(\"Enter hourly age: \"))\n",
    "regular = int (input(\"Enter regular hours: \"))\n",
    "overTime= int (input (\"Enter overtime hours: \"))\n",
    "print(\"The total weekly pay is \", hour*regular + 1.5*overTime*regular)"
   ]
  }
 ],
 "metadata": {
  "colab": {
   "name": "FODS_Assignment_I.ipynb",
   "provenance": []
  },
  "kernelspec": {
   "display_name": "Python 3",
   "language": "python",
   "name": "python3"
  },
  "language_info": {
   "codemirror_mode": {
    "name": "ipython",
    "version": 3
   },
   "file_extension": ".py",
   "mimetype": "text/x-python",
   "name": "python",
   "nbconvert_exporter": "python",
   "pygments_lexer": "ipython3",
   "version": "3.9.2"
  }
 },
 "nbformat": 4,
 "nbformat_minor": 1
}
